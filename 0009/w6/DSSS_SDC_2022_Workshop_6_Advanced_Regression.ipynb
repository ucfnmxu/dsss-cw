{
 "cells": [
  {
   "cell_type": "markdown",
   "metadata": {},
   "source": [
    "<div style=\"float:left\">\n",
    "    <h1 style=\"width:600px\">Workshop 6: Advanced Regression</h1>\n",
    "    <h3 style=\"width:600px\">CASA0006: Data Science for Spatial Systems</h3>\n",
    "    <h3 style=\"width:600px\">CASA0009: Spatial Data Capture, Storage and Analysis</h3>\n",
    "    <h3 style=\"width:600px\">Author: Huanfa Chen</h3>\n",
    "</div>\n",
    "<div style=\"float:right\"><img width=\"100\" src=\"https://github.com/jreades/i2p/raw/master/img/casa_logo.jpg\" /></div>"
   ]
  },
  {
   "cell_type": "markdown",
   "metadata": {},
   "source": [
    "In this workshop, we will be working through some examples of how we can use regression methods to understand the relationship between the bike rental data and ambient and seasonal variables.\n",
    "\n",
    "This workshop will cover **linear regression**, **VIF**, **Lasso**, **CART**, **random forest**, and **GBDT**.\n",
    "\n",
    "Let's first import the relevant libraries. \n",
    "\n",
    "* `pandas` for data import and handling;\n",
    "* `matplotlib`;\n",
    "* `numpy`;\n",
    "* `sklearn`;\n",
    "* `statsmodels` for linear regression and VIF.\n",
    "\n",
    "**Run the script below to get started.**"
   ]
  },
  {
   "cell_type": "code",
   "execution_count": 1,
   "metadata": {},
   "outputs": [],
   "source": [
    "import numpy as np\n",
    "import matplotlib.pyplot as plt\n",
    "import pandas as pd\n",
    "import sklearn\n",
    "from sklearn.linear_model import LinearRegression\n",
    "from sklearn.model_selection import train_test_split\n",
    "import statsmodels.api as sm\n",
    "\n",
    "pd.set_option('display.max_rows', 300) # specifies number of rows to show\n",
    "pd.options.display.float_format = '{:40,.4f}'.format # specifies default number format to 4 decimal places\n",
    "plt.style.use('ggplot') # specifies that graphs should use ggplot styling\n",
    "%matplotlib inline"
   ]
  },
  {
   "cell_type": "markdown",
   "metadata": {},
   "source": [
    "## Data Exploration"
   ]
  },
  {
   "cell_type": "markdown",
   "metadata": {},
   "source": [
    "The dataset you will use relates to daily counts of rented bicycles from the bicycle rental company Capital-Bikeshare in Washington D.C., along with weather and seasonal information. The goal here is to predict how many bikes will be rented depending on the weather and the day. The original data can be downloaded from the [UCI Machine Learning Repository](http://archive.ics.uci.edu/ml/datasets/Bike+Sharing+Dataset).\n",
    "\n",
    "The dataset used in this workshop has been slightly processed by Christoph Molnar using the processing R-script from this [Github repository](https://github.com/christophM/interpretable-ml-book/blob/master/R/get-bike-sharing-dataset.R). Here, the dataset is provided as a csv file on Moodle.\n",
    "\n",
    "Here is a list of the variables in the dataset:\n",
    "\n",
    "- Count of bicycles including both casual and registered users. The count is used as the response in the regression task.\n",
    "- Indicator of the season, either spring, summer, fall or winter.\n",
    "- Indicator whether the day was a holiday or not.\n",
    "- The year: either 2011 or 2012.\n",
    "- Number of days since the 01.01.2011 (the first day in the dataset). This predictor was introduced to take account of the trend over time.\n",
    "- Indicator whether the day was a working day or weekend.\n",
    "- The weather situation on that day. One of:\n",
    "  - **'GOOD'**: including clear, few clouds, partly cloudy, cloudy\n",
    "  - **'MISTY'**: including mist + clouds, mist + broken clouds, mist + few clouds, mist\n",
    "  - **'RAIN/SNOW/STORM'**: including light snow, light rain + thunderstorm + scattered clouds, light rain + scattered clouds, heavy rain + ice pallets + thunderstorm + mist, snow + mist\n",
    "- Temperature in degrees Celsius.\n",
    "- Relative humidity in percent (0 to 100).\n",
    "- Wind speed in km/h.\n",
    "\n",
    "Based on what you know from using Pandas over the last few weeks, import the Boston housing dataset as a Pandas dataframe (call it `bike_rental`), inspect the data, calculate summary statistics on all attributes, and general simple plots of pairs of attributes."
   ]
  },
  {
   "cell_type": "code",
   "execution_count": 2,
   "metadata": {},
   "outputs": [],
   "source": [
    "bike_rental = pd.read_csv('daily_count_bike_rental.csv')\n",
    "# drop the year variable as it is not useful\n",
    "bike_rental = bike_rental.drop(['yr'], axis=1)"
   ]
  },
  {
   "cell_type": "code",
   "execution_count": 3,
   "metadata": {},
   "outputs": [
    {
     "name": "stdout",
     "output_type": "stream",
     "text": [
      "<class 'pandas.core.frame.DataFrame'>\n",
      "RangeIndex: 731 entries, 0 to 730\n",
      "Data columns (total 11 columns):\n",
      " #   Column           Non-Null Count  Dtype  \n",
      "---  ------           --------------  -----  \n",
      " 0   cnt              731 non-null    int64  \n",
      " 1   season           731 non-null    object \n",
      " 2   mnth             731 non-null    object \n",
      " 3   holiday          731 non-null    object \n",
      " 4   weekday          731 non-null    object \n",
      " 5   workingday       731 non-null    object \n",
      " 6   weathersit       731 non-null    object \n",
      " 7   temp             731 non-null    float64\n",
      " 8   hum              731 non-null    float64\n",
      " 9   windspeed        731 non-null    float64\n",
      " 10  days_since_2011  731 non-null    int64  \n",
      "dtypes: float64(3), int64(2), object(6)\n",
      "memory usage: 62.9+ KB\n"
     ]
    }
   ],
   "source": [
    "bike_rental.info()"
   ]
  },
  {
   "cell_type": "code",
   "execution_count": 4,
   "metadata": {},
   "outputs": [
    {
     "data": {
      "text/html": [
       "<div>\n",
       "<style scoped>\n",
       "    .dataframe tbody tr th:only-of-type {\n",
       "        vertical-align: middle;\n",
       "    }\n",
       "\n",
       "    .dataframe tbody tr th {\n",
       "        vertical-align: top;\n",
       "    }\n",
       "\n",
       "    .dataframe thead th {\n",
       "        text-align: right;\n",
       "    }\n",
       "</style>\n",
       "<table border=\"1\" class=\"dataframe\">\n",
       "  <thead>\n",
       "    <tr style=\"text-align: right;\">\n",
       "      <th></th>\n",
       "      <th>cnt</th>\n",
       "      <th>season</th>\n",
       "      <th>mnth</th>\n",
       "      <th>holiday</th>\n",
       "      <th>weekday</th>\n",
       "      <th>workingday</th>\n",
       "      <th>weathersit</th>\n",
       "      <th>temp</th>\n",
       "      <th>hum</th>\n",
       "      <th>windspeed</th>\n",
       "      <th>days_since_2011</th>\n",
       "    </tr>\n",
       "  </thead>\n",
       "  <tbody>\n",
       "    <tr>\n",
       "      <th>0</th>\n",
       "      <td>985</td>\n",
       "      <td>SPRING</td>\n",
       "      <td>JAN</td>\n",
       "      <td>NO HOLIDAY</td>\n",
       "      <td>SAT</td>\n",
       "      <td>NO WORKING DAY</td>\n",
       "      <td>MISTY</td>\n",
       "      <td>8.1758</td>\n",
       "      <td>80.5833</td>\n",
       "      <td>10.7499</td>\n",
       "      <td>0</td>\n",
       "    </tr>\n",
       "    <tr>\n",
       "      <th>1</th>\n",
       "      <td>801</td>\n",
       "      <td>SPRING</td>\n",
       "      <td>JAN</td>\n",
       "      <td>NO HOLIDAY</td>\n",
       "      <td>SUN</td>\n",
       "      <td>NO WORKING DAY</td>\n",
       "      <td>MISTY</td>\n",
       "      <td>9.0835</td>\n",
       "      <td>69.6087</td>\n",
       "      <td>16.6521</td>\n",
       "      <td>1</td>\n",
       "    </tr>\n",
       "    <tr>\n",
       "      <th>2</th>\n",
       "      <td>1349</td>\n",
       "      <td>SPRING</td>\n",
       "      <td>JAN</td>\n",
       "      <td>NO HOLIDAY</td>\n",
       "      <td>MON</td>\n",
       "      <td>WORKING DAY</td>\n",
       "      <td>GOOD</td>\n",
       "      <td>1.2291</td>\n",
       "      <td>43.7273</td>\n",
       "      <td>16.6367</td>\n",
       "      <td>2</td>\n",
       "    </tr>\n",
       "    <tr>\n",
       "      <th>3</th>\n",
       "      <td>1562</td>\n",
       "      <td>SPRING</td>\n",
       "      <td>JAN</td>\n",
       "      <td>NO HOLIDAY</td>\n",
       "      <td>TUE</td>\n",
       "      <td>WORKING DAY</td>\n",
       "      <td>GOOD</td>\n",
       "      <td>1.4000</td>\n",
       "      <td>59.0435</td>\n",
       "      <td>10.7398</td>\n",
       "      <td>3</td>\n",
       "    </tr>\n",
       "    <tr>\n",
       "      <th>4</th>\n",
       "      <td>1600</td>\n",
       "      <td>SPRING</td>\n",
       "      <td>JAN</td>\n",
       "      <td>NO HOLIDAY</td>\n",
       "      <td>WED</td>\n",
       "      <td>WORKING DAY</td>\n",
       "      <td>GOOD</td>\n",
       "      <td>2.6670</td>\n",
       "      <td>43.6957</td>\n",
       "      <td>12.5223</td>\n",
       "      <td>4</td>\n",
       "    </tr>\n",
       "  </tbody>\n",
       "</table>\n",
       "</div>"
      ],
      "text/plain": [
       "    cnt  season mnth     holiday weekday      workingday weathersit  \\\n",
       "0   985  SPRING  JAN  NO HOLIDAY     SAT  NO WORKING DAY      MISTY   \n",
       "1   801  SPRING  JAN  NO HOLIDAY     SUN  NO WORKING DAY      MISTY   \n",
       "2  1349  SPRING  JAN  NO HOLIDAY     MON     WORKING DAY       GOOD   \n",
       "3  1562  SPRING  JAN  NO HOLIDAY     TUE     WORKING DAY       GOOD   \n",
       "4  1600  SPRING  JAN  NO HOLIDAY     WED     WORKING DAY       GOOD   \n",
       "\n",
       "                                      temp  \\\n",
       "0                                   8.1758   \n",
       "1                                   9.0835   \n",
       "2                                   1.2291   \n",
       "3                                   1.4000   \n",
       "4                                   2.6670   \n",
       "\n",
       "                                       hum  \\\n",
       "0                                  80.5833   \n",
       "1                                  69.6087   \n",
       "2                                  43.7273   \n",
       "3                                  59.0435   \n",
       "4                                  43.6957   \n",
       "\n",
       "                                 windspeed  days_since_2011  \n",
       "0                                  10.7499                0  \n",
       "1                                  16.6521                1  \n",
       "2                                  16.6367                2  \n",
       "3                                  10.7398                3  \n",
       "4                                  12.5223                4  "
      ]
     },
     "execution_count": 4,
     "metadata": {},
     "output_type": "execute_result"
    }
   ],
   "source": [
    "bike_rental.head()"
   ]
  },
  {
   "cell_type": "markdown",
   "metadata": {},
   "source": [
    "In `bike_rental`, there are two data types: categorical (aka `object`), and numerical (including `int64` and `float64`). \n",
    "\n",
    "Before undertaking regression, several steps should be done, which include:\n",
    "- Converting categorical variables into dummy variables;\n",
    "- Split the data into training and testing sets;\n",
    "- For linear regression, we should deal with multicollinearity (and removing some variables if necessary)"
   ]
  },
  {
   "cell_type": "markdown",
   "metadata": {},
   "source": [
    "### Converting categorical variables\n",
    "First, we need to convert categorical variables into dummy/indicator variables, using `One-Hot Encoding`."
   ]
  },
  {
   "cell_type": "code",
   "execution_count": 5,
   "metadata": {},
   "outputs": [],
   "source": [
    "bike_rentail_numeric = pd.get_dummies(bike_rental)"
   ]
  },
  {
   "cell_type": "code",
   "execution_count": 6,
   "metadata": {},
   "outputs": [
    {
     "name": "stdout",
     "output_type": "stream",
     "text": [
      "<class 'pandas.core.frame.DataFrame'>\n",
      "RangeIndex: 731 entries, 0 to 730\n",
      "Data columns (total 35 columns):\n",
      " #   Column                      Non-Null Count  Dtype  \n",
      "---  ------                      --------------  -----  \n",
      " 0   cnt                         731 non-null    int64  \n",
      " 1   temp                        731 non-null    float64\n",
      " 2   hum                         731 non-null    float64\n",
      " 3   windspeed                   731 non-null    float64\n",
      " 4   days_since_2011             731 non-null    int64  \n",
      " 5   season_FALL                 731 non-null    uint8  \n",
      " 6   season_SPRING               731 non-null    uint8  \n",
      " 7   season_SUMMER               731 non-null    uint8  \n",
      " 8   season_WINTER               731 non-null    uint8  \n",
      " 9   mnth_APR                    731 non-null    uint8  \n",
      " 10  mnth_AUG                    731 non-null    uint8  \n",
      " 11  mnth_DEZ                    731 non-null    uint8  \n",
      " 12  mnth_FEB                    731 non-null    uint8  \n",
      " 13  mnth_JAN                    731 non-null    uint8  \n",
      " 14  mnth_JUL                    731 non-null    uint8  \n",
      " 15  mnth_JUN                    731 non-null    uint8  \n",
      " 16  mnth_MAR                    731 non-null    uint8  \n",
      " 17  mnth_MAY                    731 non-null    uint8  \n",
      " 18  mnth_NOV                    731 non-null    uint8  \n",
      " 19  mnth_OKT                    731 non-null    uint8  \n",
      " 20  mnth_SEP                    731 non-null    uint8  \n",
      " 21  holiday_HOLIDAY             731 non-null    uint8  \n",
      " 22  holiday_NO HOLIDAY          731 non-null    uint8  \n",
      " 23  weekday_FRI                 731 non-null    uint8  \n",
      " 24  weekday_MON                 731 non-null    uint8  \n",
      " 25  weekday_SAT                 731 non-null    uint8  \n",
      " 26  weekday_SUN                 731 non-null    uint8  \n",
      " 27  weekday_THU                 731 non-null    uint8  \n",
      " 28  weekday_TUE                 731 non-null    uint8  \n",
      " 29  weekday_WED                 731 non-null    uint8  \n",
      " 30  workingday_NO WORKING DAY   731 non-null    uint8  \n",
      " 31  workingday_WORKING DAY      731 non-null    uint8  \n",
      " 32  weathersit_GOOD             731 non-null    uint8  \n",
      " 33  weathersit_MISTY            731 non-null    uint8  \n",
      " 34  weathersit_RAIN/SNOW/STORM  731 non-null    uint8  \n",
      "dtypes: float64(3), int64(2), uint8(30)\n",
      "memory usage: 50.1 KB\n"
     ]
    }
   ],
   "source": [
    "# check out the new dataFrame\n",
    "bike_rentail_numeric.info()"
   ]
  },
  {
   "cell_type": "markdown",
   "metadata": {},
   "source": [
    "Remember that, a cateogircal variable of K categories or levels, usually enters a regression as a sequence of K-1 dummy variables. The level that is left out becomes the reference level, and this is important for interpreting the regression model.\n",
    "\n",
    "Here we manually choose the reference level for each categorical variable and exclude them from the DataFrame. You can change the reference levels if you want."
   ]
  },
  {
   "cell_type": "code",
   "execution_count": 7,
   "metadata": {},
   "outputs": [
    {
     "name": "stdout",
     "output_type": "stream",
     "text": [
      "<class 'pandas.core.frame.DataFrame'>\n",
      "RangeIndex: 731 entries, 0 to 730\n",
      "Data columns (total 29 columns):\n",
      " #   Column                      Non-Null Count  Dtype  \n",
      "---  ------                      --------------  -----  \n",
      " 0   cnt                         731 non-null    int64  \n",
      " 1   temp                        731 non-null    float64\n",
      " 2   hum                         731 non-null    float64\n",
      " 3   windspeed                   731 non-null    float64\n",
      " 4   days_since_2011             731 non-null    int64  \n",
      " 5   season_FALL                 731 non-null    uint8  \n",
      " 6   season_SUMMER               731 non-null    uint8  \n",
      " 7   season_WINTER               731 non-null    uint8  \n",
      " 8   mnth_APR                    731 non-null    uint8  \n",
      " 9   mnth_AUG                    731 non-null    uint8  \n",
      " 10  mnth_DEZ                    731 non-null    uint8  \n",
      " 11  mnth_FEB                    731 non-null    uint8  \n",
      " 12  mnth_JUL                    731 non-null    uint8  \n",
      " 13  mnth_JUN                    731 non-null    uint8  \n",
      " 14  mnth_MAR                    731 non-null    uint8  \n",
      " 15  mnth_MAY                    731 non-null    uint8  \n",
      " 16  mnth_NOV                    731 non-null    uint8  \n",
      " 17  mnth_OKT                    731 non-null    uint8  \n",
      " 18  mnth_SEP                    731 non-null    uint8  \n",
      " 19  holiday_HOLIDAY             731 non-null    uint8  \n",
      " 20  weekday_FRI                 731 non-null    uint8  \n",
      " 21  weekday_SAT                 731 non-null    uint8  \n",
      " 22  weekday_SUN                 731 non-null    uint8  \n",
      " 23  weekday_THU                 731 non-null    uint8  \n",
      " 24  weekday_TUE                 731 non-null    uint8  \n",
      " 25  weekday_WED                 731 non-null    uint8  \n",
      " 26  workingday_NO WORKING DAY   731 non-null    uint8  \n",
      " 27  weathersit_MISTY            731 non-null    uint8  \n",
      " 28  weathersit_RAIN/SNOW/STORM  731 non-null    uint8  \n",
      "dtypes: float64(3), int64(2), uint8(24)\n",
      "memory usage: 45.8 KB\n"
     ]
    }
   ],
   "source": [
    "bike_rental_final = bike_rentail_numeric.drop(['season_SPRING', 'mnth_JAN', 'holiday_NO HOLIDAY', 'weekday_MON', 'workingday_WORKING DAY', 'weathersit_GOOD'], axis=1)\n",
    "\n",
    "# double check the result\n",
    "bike_rental_final.info()"
   ]
  },
  {
   "cell_type": "markdown",
   "metadata": {},
   "source": [
    "### Splitting data into random train and test subsets"
   ]
  },
  {
   "cell_type": "markdown",
   "metadata": {},
   "source": [
    "By default, `train_test_split` will split the data according to a 75:25 split. Other proportions can be specified, check out the [documentation](http://scikit-learn.org/stable/modules/generated/sklearn.cross_validation.train_test_split.html) for details.\n",
    "\n",
    "Remember that the split should be random in order to avoid selection bias. Here, we set random_state=100 to guarantee reproducibility.\n",
    "\n",
    "From the documentation:\n",
    "\n",
    "The first argument of this function:\n",
    "\n",
    "```\n",
    "*arrays: sequence of indexables with same length / shape[0]\n",
    "Allowed inputs are lists, numpy arrays, scipy-sparse matrices or pandas dataframes.\n",
    "```\n",
    "\n",
    "The output of this function:\n",
    "```\n",
    "splitting: list, length=2 * len(arrays)\n",
    "List containing train-test split of inputs.\n",
    "```\n",
    "\n",
    "Here we input two dataframes (X and Y) and will get four outputs (train_x, test_x, train_y, test_y)."
   ]
  },
  {
   "cell_type": "code",
   "execution_count": 9,
   "metadata": {},
   "outputs": [],
   "source": [
    "random_state_split = 100\n",
    "train_x, test_x, train_y, test_y = train_test_split(bike_rental_final.drop(['cnt'], axis =1), bike_rental_final.cnt, random_state=random_state_split)"
   ]
  },
  {
   "cell_type": "markdown",
   "metadata": {},
   "source": [
    "Double check the rows and columns of the outputs."
   ]
  },
  {
   "cell_type": "code",
   "execution_count": 10,
   "metadata": {},
   "outputs": [
    {
     "name": "stdout",
     "output_type": "stream",
     "text": [
      "(548, 28)\n",
      "(548,)\n",
      "(183, 28)\n",
      "(183,)\n",
      "True\n",
      "True\n"
     ]
    }
   ],
   "source": [
    "print(train_x.shape)\n",
    "print(train_y.shape)\n",
    "print(test_x.shape)\n",
    "print(test_y.shape)\n",
    "\n",
    "# check the index of train_x and train_y - they should be identical. The index indicates which rows from the original data.\n",
    "\n",
    "print(train_x.index.identical(train_y.index))\n",
    "print(test_x.index.identical(test_y.index))"
   ]
  },
  {
   "cell_type": "markdown",
   "metadata": {},
   "source": [
    "In the regression models, we will use the training set to train the model and select hyperparameters. The testing set is only used to report the performance of the finalised model."
   ]
  },
  {
   "cell_type": "markdown",
   "metadata": {},
   "source": [
    "### Checking multicollinearity\n",
    "\n",
    "In regression, `multicollinearity` emerges when two or more variables, which are highly correlated are included in a model. It can emerge even when each pair of variables involved are not colinear. For example, think of the four dummy variables relating to seasons in the `bike_rental_numeric` dataset.  \n",
    "\n",
    "You can check the colinearity between attributes using a correlation matrix as below. Think of these two questions:\n",
    "\n",
    "- **What can you get from this plot? For example, which pair of variables are highly correlated, and can you explain it?**\n",
    "- **Can you use the correlation matrix to deal with multicolinearity, for example, by removing one of the two variables if their correlation is above 0.75?** (*Hint*: a short answer is NO)"
   ]
  },
  {
   "cell_type": "code",
   "execution_count": 11,
   "metadata": {},
   "outputs": [
    {
     "data": {
      "text/plain": [
       "Text(0.5, 1.0, 'Correlation Matrix')"
      ]
     },
     "execution_count": 11,
     "metadata": {},
     "output_type": "execute_result"
    },
    {
     "data": {
      "image/png": "[encoded data removed]",
      "text/plain": [
       "<Figure size 1368x1080 with 2 Axes>"
      ]
     },
     "metadata": {
      "needs_background": "light"
     },
     "output_type": "display_data"
    }
   ],
   "source": [
    "df = bike_rental_final\n",
    "plt.rcParams[\"axes.grid\"] = False\n",
    "f = plt.figure(figsize=(19, 15))\n",
    "plt.matshow(df.corr(), fignum=f.number)\n",
    "plt.xticks(range(df.shape[1]), df.columns, fontsize=14, rotation=45)\n",
    "plt.yticks(range(df.shape[1]), df.columns, fontsize=14)\n",
    "cb = plt.colorbar()\n",
    "cb.ax.tick_params(labelsize=14)\n",
    "plt.title('Correlation Matrix', fontsize=16)"
   ]
  },
  {
   "cell_type": "markdown",
   "metadata": {},
   "source": [
    "## Linear regression with VIF\n",
    "\n",
    "The `Variance Inflation Factor` (VIF) is a measure of multicolinearity among predictors within a multiple regression task. It is the quotient of the variance in a model with multiple predictors by the variance of a model with a single predictor. More explanation of the theory can be found [here](https://en.wikipedia.org/wiki/Variance_inflation_factor). \n",
    "\n",
    "Steps for using VIF to deal with multicolineartiy are:\n",
    "\n",
    "1. Initialise ```L``` as the list of independent variables. (*HINT*: the response variable is not needed here)\n",
    "2. Calculate the VIF for each variable in ```L```. (*HINT*: the order of computing VIF is irrelevant).\n",
    "3. If the highest VIF is larger than the threshold, remove the variable from the list ```L```.\n",
    "4. Repeat Step 2-3, until no VIF is larger than the threshold.\n",
    "5. Return ```L```.\n",
    "\n",
    "Below is an example of using VIF on the `bike_rental` dataset. Note that the `statsmodels` package is used."
   ]
  },
  {
   "cell_type": "code",
   "execution_count": 12,
   "metadata": {},
   "outputs": [],
   "source": [
    "# calculating VIF\n",
    "# This function is amended from: https://stackoverflow.com/a/51329496/4667568\n",
    "from statsmodels.stats.outliers_influence import variance_inflation_factor \n",
    "from statsmodels.tools.tools import add_constant\n",
    "\n",
    "def drop_column_using_vif_(df, list_var_not_to_remove=None, thresh=5):\n",
    "    '''\n",
    "    Calculates VIF each feature in a pandas dataframe, and repeatedly drop the columns with the highest VIF\n",
    "    A constant must be added to variance_inflation_factor or the results will be incorrect\n",
    "\n",
    "    :param df: the pandas dataframe containing only the predictor features, not the response variable\n",
    "    :param list_var_not_to_remove: the list of variables that should not be removed even though it has a high VIF. For example, dummy (or indicator) variables represent a categorical variable with three or more categories.\n",
    "    :param thresh: the max VIF value before the feature is removed from the dataframe\n",
    "    :return: dataframe with multicollinear features removed\n",
    "    '''\n",
    "    while True:\n",
    "        # adding a constatnt item to the data\n",
    "        df_with_const = add_constant(df)\n",
    "\n",
    "        vif_df = pd.Series([variance_inflation_factor(df_with_const.values, i) \n",
    "               for i in range(df_with_const.shape[1])], name= \"VIF\",\n",
    "              index=df_with_const.columns).to_frame()\n",
    "\n",
    "        # drop the const as const should not be removed\n",
    "        vif_df = vif_df.drop('const')\n",
    "        \n",
    "        # drop the variables that should not be removed\n",
    "        if list_var_not_to_remove is not None:\n",
    "            vif_df = vif_df.drop(list_var_not_to_remove)\n",
    "            \n",
    "        print('Max VIF:', vif_df.VIF.max())\n",
    "        \n",
    "        # if the largest VIF is above the thresh, remove a variable with the largest VIF\n",
    "        if vif_df.VIF.max() > thresh:\n",
    "            # If there are multiple variables with the maximum VIF, choose the first one\n",
    "            index_to_drop = vif_df.index[vif_df.VIF == vif_df.VIF.max()].tolist()[0]\n",
    "            print('Dropping: {}'.format(index_to_drop))\n",
    "            df = df.drop(columns = index_to_drop)\n",
    "        else:\n",
    "            # No VIF is above threshold. Exit the loop\n",
    "            break\n",
    "\n",
    "    return df"
   ]
  },
  {
   "cell_type": "code",
   "execution_count": 13,
   "metadata": {},
   "outputs": [
    {
     "name": "stderr",
     "output_type": "stream",
     "text": [
      "/opt/conda/envs/sds2021/lib/python3.9/site-packages/statsmodels/tsa/tsatools.py:142: FutureWarning: In a future version of pandas all arguments of concat except for the argument 'objs' will be keyword-only\n",
      "  x = pd.concat(x[::order], 1)\n",
      "/opt/conda/envs/sds2021/lib/python3.9/site-packages/statsmodels/stats/outliers_influence.py:193: RuntimeWarning: divide by zero encountered in double_scalars\n",
      "  vif = 1. / (1. - r_squared_i)\n"
     ]
    },
    {
     "name": "stdout",
     "output_type": "stream",
     "text": [
      "Max VIF: inf\n",
      "Dropping: holiday_HOLIDAY\n",
      "Max VIF: 10.931616047006894\n",
      "Dropping: season_FALL\n",
      "Max VIF: 9.793644339692246\n",
      "Dropping: workingday_NO WORKING DAY\n",
      "Max VIF: 6.799588616502383\n",
      "Dropping: temp\n",
      "Max VIF: 5.52604957231624\n",
      "Dropping: season_WINTER\n",
      "Max VIF: 4.923880444783553\n",
      "The columns remaining after VIF selection are:\n",
      "Index(['hum', 'windspeed', 'days_since_2011', 'season_SUMMER', 'mnth_APR',\n",
      "       'mnth_AUG', 'mnth_DEZ', 'mnth_FEB', 'mnth_JUL', 'mnth_JUN', 'mnth_MAR',\n",
      "       'mnth_MAY', 'mnth_NOV', 'mnth_OKT', 'mnth_SEP', 'weekday_FRI',\n",
      "       'weekday_SAT', 'weekday_SUN', 'weekday_THU', 'weekday_TUE',\n",
      "       'weekday_WED', 'weathersit_MISTY', 'weathersit_RAIN/SNOW/STORM'],\n",
      "      dtype='object')\n"
     ]
    }
   ],
   "source": [
    "# using VIF on the bike_rental dataset\n",
    "\n",
    "train_x_VIF = drop_column_using_vif_(train_x, thresh=5)\n",
    "print(\"The columns remaining after VIF selection are:\")\n",
    "print(train_x_VIF.columns)"
   ]
  },
  {
   "cell_type": "markdown",
   "metadata": {},
   "source": [
    "### Building a linear regression model\n",
    "\n",
    "Now we can fit a linear regression model after dealing with the multicolinearity, and we will do it using the sklearn package. \n",
    "\n",
    "Just like clustering analysis in `sklearn`, we will run the regression model using the `.fit()` function. Make sure you get the variables the right way around."
   ]
  },
  {
   "cell_type": "code",
   "execution_count": 14,
   "metadata": {},
   "outputs": [
    {
     "data": {
      "text/plain": [
       "LinearRegression()"
      ]
     },
     "execution_count": 14,
     "metadata": {},
     "output_type": "execute_result"
    }
   ],
   "source": [
    "lr = LinearRegression()\n",
    "lr.fit(X=train_x_VIF, y=train_y)"
   ]
  },
  {
   "cell_type": "markdown",
   "metadata": {},
   "source": [
    "Now that we've created our fit, it's time to look at the structure of the model and how well it fits the data.\n",
    "\n",
    "There are a number of ways to do this. In the first instance, as with any linear regression model, we want to get a grip on the coefficients and intercept of the model. Helpfully, these two functions are built into the LinearRegression object. **Consult the documentation and see if you can find out how to extract these.**"
   ]
  },
  {
   "cell_type": "code",
   "execution_count": 15,
   "metadata": {},
   "outputs": [
    {
     "name": "stdout",
     "output_type": "stream",
     "text": [
      "Constant term:  2087.803267162159\n",
      "                           var                                     coef\n",
      "0                          hum                                  -4.5649\n",
      "1                    windspeed                                 -56.3497\n",
      "2              days_since_2011                                   5.8236\n",
      "3                season_SUMMER                                 364.1897\n",
      "4                     mnth_APR                               1,609.4569\n",
      "5                     mnth_AUG                               2,128.8620\n",
      "6                     mnth_DEZ                                -566.6964\n",
      "7                     mnth_FEB                                 367.0586\n",
      "8                     mnth_JUL                               2,081.0410\n",
      "9                     mnth_JUN                               2,317.6894\n",
      "10                    mnth_MAR                               1,143.5983\n",
      "11                    mnth_MAY                               2,127.0140\n",
      "12                    mnth_NOV                                 418.7691\n",
      "13                    mnth_OKT                               1,626.9952\n",
      "14                    mnth_SEP                               2,249.9567\n",
      "15                 weekday_FRI                                 296.0104\n",
      "16                 weekday_SAT                                 330.1010\n",
      "17                 weekday_SUN                                -143.5833\n",
      "18                 weekday_THU                                 320.8964\n",
      "19                 weekday_TUE                                 193.7411\n",
      "20                 weekday_WED                                 279.5822\n",
      "21            weathersit_MISTY                                -636.8467\n",
      "22  weathersit_RAIN/SNOW/STORM                              -2,494.7931\n"
     ]
    }
   ],
   "source": [
    "print('Constant term: ', lr.intercept_)\n",
    "df_coef_lr_VIF = pd.DataFrame({\"var\": train_x_VIF.columns.values, \"coef\":lr.coef_})\n",
    "print(df_coef_lr_VIF)"
   ]
  },
  {
   "cell_type": "markdown",
   "metadata": {},
   "source": [
    "The code below will generate the R2 score for us. Run the code and see how well the model performed."
   ]
  },
  {
   "cell_type": "code",
   "execution_count": 16,
   "metadata": {},
   "outputs": [
    {
     "name": "stdout",
     "output_type": "stream",
     "text": [
      "R2:\n"
     ]
    },
    {
     "data": {
      "text/plain": [
       "0.8093152572014565"
      ]
     },
     "execution_count": 16,
     "metadata": {},
     "output_type": "execute_result"
    }
   ],
   "source": [
    "print('R2:')\n",
    "lr.score(X=train_x_VIF, y=train_y)"
   ]
  },
  {
   "cell_type": "markdown",
   "metadata": {},
   "source": [
    "It is not easy to get a comprehensive summary of the regression model using `sklearn` package. We recommend using the `statsmodel` package, which has a nice **summary()** function."
   ]
  },
  {
   "cell_type": "code",
   "execution_count": 17,
   "metadata": {},
   "outputs": [
    {
     "name": "stderr",
     "output_type": "stream",
     "text": [
      "/opt/conda/envs/sds2021/lib/python3.9/site-packages/statsmodels/tsa/tsatools.py:142: FutureWarning: In a future version of pandas all arguments of concat except for the argument 'objs' will be keyword-only\n",
      "  x = pd.concat(x[::order], 1)\n"
     ]
    },
    {
     "data": {
      "text/html": [
       "<table class=\"simpletable\">\n",
       "<caption>OLS Regression Results</caption>\n",
       "<tr>\n",
       "  <th>Dep. Variable:</th>           <td>cnt</td>       <th>  R-squared:         </th> <td>   0.809</td> \n",
       "</tr>\n",
       "<tr>\n",
       "  <th>Model:</th>                   <td>OLS</td>       <th>  Adj. R-squared:    </th> <td>   0.801</td> \n",
       "</tr>\n",
       "<tr>\n",
       "  <th>Method:</th>             <td>Least Squares</td>  <th>  F-statistic:       </th> <td>   96.70</td> \n",
       "</tr>\n",
       "<tr>\n",
       "  <th>Date:</th>             <td>Mon, 21 Mar 2022</td> <th>  Prob (F-statistic):</th> <td>7.90e-172</td>\n",
       "</tr>\n",
       "<tr>\n",
       "  <th>Time:</th>                 <td>15:17:33</td>     <th>  Log-Likelihood:    </th> <td> -4476.3</td> \n",
       "</tr>\n",
       "<tr>\n",
       "  <th>No. Observations:</th>      <td>   548</td>      <th>  AIC:               </th> <td>   9001.</td> \n",
       "</tr>\n",
       "<tr>\n",
       "  <th>Df Residuals:</th>          <td>   524</td>      <th>  BIC:               </th> <td>   9104.</td> \n",
       "</tr>\n",
       "<tr>\n",
       "  <th>Df Model:</th>              <td>    23</td>      <th>                     </th>     <td> </td>    \n",
       "</tr>\n",
       "<tr>\n",
       "  <th>Covariance Type:</th>      <td>nonrobust</td>    <th>                     </th>     <td> </td>    \n",
       "</tr>\n",
       "</table>\n",
       "<table class=\"simpletable\">\n",
       "<tr>\n",
       "               <td></td>                 <th>coef</th>     <th>std err</th>      <th>t</th>      <th>P>|t|</th>  <th>[0.025</th>    <th>0.975]</th>  \n",
       "</tr>\n",
       "<tr>\n",
       "  <th>const</th>                      <td> 2087.8033</td> <td>  293.832</td> <td>    7.105</td> <td> 0.000</td> <td> 1510.569</td> <td> 2665.037</td>\n",
       "</tr>\n",
       "<tr>\n",
       "  <th>hum</th>                        <td>   -4.5649</td> <td>    3.602</td> <td>   -1.267</td> <td> 0.206</td> <td>  -11.642</td> <td>    2.512</td>\n",
       "</tr>\n",
       "<tr>\n",
       "  <th>windspeed</th>                  <td>  -56.3497</td> <td>    7.908</td> <td>   -7.126</td> <td> 0.000</td> <td>  -71.885</td> <td>  -40.814</td>\n",
       "</tr>\n",
       "<tr>\n",
       "  <th>days_since_2011</th>            <td>    5.8236</td> <td>    0.206</td> <td>   28.260</td> <td> 0.000</td> <td>    5.419</td> <td>    6.228</td>\n",
       "</tr>\n",
       "<tr>\n",
       "  <th>season_SUMMER</th>              <td>  364.1897</td> <td>  192.511</td> <td>    1.892</td> <td> 0.059</td> <td>  -13.999</td> <td>  742.379</td>\n",
       "</tr>\n",
       "<tr>\n",
       "  <th>mnth_APR</th>                   <td> 1609.4569</td> <td>  269.921</td> <td>    5.963</td> <td> 0.000</td> <td> 1079.196</td> <td> 2139.718</td>\n",
       "</tr>\n",
       "<tr>\n",
       "  <th>mnth_AUG</th>                   <td> 2128.8620</td> <td>  184.336</td> <td>   11.549</td> <td> 0.000</td> <td> 1766.733</td> <td> 2490.991</td>\n",
       "</tr>\n",
       "<tr>\n",
       "  <th>mnth_DEZ</th>                   <td> -566.6964</td> <td>  192.280</td> <td>   -2.947</td> <td> 0.003</td> <td> -944.431</td> <td> -188.962</td>\n",
       "</tr>\n",
       "<tr>\n",
       "  <th>mnth_FEB</th>                   <td>  367.0586</td> <td>  185.932</td> <td>    1.974</td> <td> 0.049</td> <td>    1.794</td> <td>  732.323</td>\n",
       "</tr>\n",
       "<tr>\n",
       "  <th>mnth_JUL</th>                   <td> 2081.0410</td> <td>  193.825</td> <td>   10.737</td> <td> 0.000</td> <td> 1700.272</td> <td> 2461.810</td>\n",
       "</tr>\n",
       "<tr>\n",
       "  <th>mnth_JUN</th>                   <td> 2317.6894</td> <td>  230.536</td> <td>   10.053</td> <td> 0.000</td> <td> 1864.801</td> <td> 2770.578</td>\n",
       "</tr>\n",
       "<tr>\n",
       "  <th>mnth_MAR</th>                   <td> 1143.5983</td> <td>  186.451</td> <td>    6.134</td> <td> 0.000</td> <td>  777.316</td> <td> 1509.881</td>\n",
       "</tr>\n",
       "<tr>\n",
       "  <th>mnth_MAY</th>                   <td> 2127.0140</td> <td>  265.211</td> <td>    8.020</td> <td> 0.000</td> <td> 1606.006</td> <td> 2648.022</td>\n",
       "</tr>\n",
       "<tr>\n",
       "  <th>mnth_NOV</th>                   <td>  418.7691</td> <td>  192.969</td> <td>    2.170</td> <td> 0.030</td> <td>   39.681</td> <td>  797.857</td>\n",
       "</tr>\n",
       "<tr>\n",
       "  <th>mnth_OKT</th>                   <td> 1626.9952</td> <td>  190.780</td> <td>    8.528</td> <td> 0.000</td> <td> 1252.207</td> <td> 2001.783</td>\n",
       "</tr>\n",
       "<tr>\n",
       "  <th>mnth_SEP</th>                   <td> 2249.9567</td> <td>  194.271</td> <td>   11.582</td> <td> 0.000</td> <td> 1868.311</td> <td> 2631.603</td>\n",
       "</tr>\n",
       "<tr>\n",
       "  <th>weekday_FRI</th>                <td>  296.0104</td> <td>  143.319</td> <td>    2.065</td> <td> 0.039</td> <td>   14.459</td> <td>  577.562</td>\n",
       "</tr>\n",
       "<tr>\n",
       "  <th>weekday_SAT</th>                <td>  330.1010</td> <td>  138.105</td> <td>    2.390</td> <td> 0.017</td> <td>   58.793</td> <td>  601.409</td>\n",
       "</tr>\n",
       "<tr>\n",
       "  <th>weekday_SUN</th>                <td> -143.5833</td> <td>  136.287</td> <td>   -1.054</td> <td> 0.293</td> <td> -411.319</td> <td>  124.152</td>\n",
       "</tr>\n",
       "<tr>\n",
       "  <th>weekday_THU</th>                <td>  320.8964</td> <td>  144.275</td> <td>    2.224</td> <td> 0.027</td> <td>   37.468</td> <td>  604.325</td>\n",
       "</tr>\n",
       "<tr>\n",
       "  <th>weekday_TUE</th>                <td>  193.7411</td> <td>  139.470</td> <td>    1.389</td> <td> 0.165</td> <td>  -80.248</td> <td>  467.730</td>\n",
       "</tr>\n",
       "<tr>\n",
       "  <th>weekday_WED</th>                <td>  279.5822</td> <td>  141.534</td> <td>    1.975</td> <td> 0.049</td> <td>    1.538</td> <td>  557.626</td>\n",
       "</tr>\n",
       "<tr>\n",
       "  <th>weathersit_MISTY</th>           <td> -636.8467</td> <td>   98.186</td> <td>   -6.486</td> <td> 0.000</td> <td> -829.732</td> <td> -443.961</td>\n",
       "</tr>\n",
       "<tr>\n",
       "  <th>weathersit_RAIN/SNOW/STORM</th> <td>-2494.7931</td> <td>  255.733</td> <td>   -9.755</td> <td> 0.000</td> <td>-2997.182</td> <td>-1992.404</td>\n",
       "</tr>\n",
       "</table>\n",
       "<table class=\"simpletable\">\n",
       "<tr>\n",
       "  <th>Omnibus:</th>       <td>103.552</td> <th>  Durbin-Watson:     </th> <td>   2.004</td>\n",
       "</tr>\n",
       "<tr>\n",
       "  <th>Prob(Omnibus):</th> <td> 0.000</td>  <th>  Jarque-Bera (JB):  </th> <td> 294.576</td>\n",
       "</tr>\n",
       "<tr>\n",
       "  <th>Skew:</th>          <td>-0.914</td>  <th>  Prob(JB):          </th> <td>1.08e-64</td>\n",
       "</tr>\n",
       "<tr>\n",
       "  <th>Kurtosis:</th>      <td> 6.092</td>  <th>  Cond. No.          </th> <td>5.91e+03</td>\n",
       "</tr>\n",
       "</table><br/><br/>Notes:<br/>[1] Standard Errors assume that the covariance matrix of the errors is correctly specified.<br/>[2] The condition number is large, 5.91e+03. This might indicate that there are<br/>strong multicollinearity or other numerical problems."
      ],
      "text/plain": [
       "<class 'statsmodels.iolib.summary.Summary'>\n",
       "\"\"\"\n",
       "                            OLS Regression Results                            \n",
       "==============================================================================\n",
       "Dep. Variable:                    cnt   R-squared:                       0.809\n",
       "Model:                            OLS   Adj. R-squared:                  0.801\n",
       "Method:                 Least Squares   F-statistic:                     96.70\n",
       "Date:                Mon, 21 Mar 2022   Prob (F-statistic):          7.90e-172\n",
       "Time:                        15:17:33   Log-Likelihood:                -4476.3\n",
       "No. Observations:                 548   AIC:                             9001.\n",
       "Df Residuals:                     524   BIC:                             9104.\n",
       "Df Model:                          23                                         \n",
       "Covariance Type:            nonrobust                                         \n",
       "==============================================================================================\n",
       "                                 coef    std err          t      P>|t|      [0.025      0.975]\n",
       "----------------------------------------------------------------------------------------------\n",
       "const                       2087.8033    293.832      7.105      0.000    1510.569    2665.037\n",
       "hum                           -4.5649      3.602     -1.267      0.206     -11.642       2.512\n",
       "windspeed                    -56.3497      7.908     -7.126      0.000     -71.885     -40.814\n",
       "days_since_2011                5.8236      0.206     28.260      0.000       5.419       6.228\n",
       "season_SUMMER                364.1897    192.511      1.892      0.059     -13.999     742.379\n",
       "mnth_APR                    1609.4569    269.921      5.963      0.000    1079.196    2139.718\n",
       "mnth_AUG                    2128.8620    184.336     11.549      0.000    1766.733    2490.991\n",
       "mnth_DEZ                    -566.6964    192.280     -2.947      0.003    -944.431    -188.962\n",
       "mnth_FEB                     367.0586    185.932      1.974      0.049       1.794     732.323\n",
       "mnth_JUL                    2081.0410    193.825     10.737      0.000    1700.272    2461.810\n",
       "mnth_JUN                    2317.6894    230.536     10.053      0.000    1864.801    2770.578\n",
       "mnth_MAR                    1143.5983    186.451      6.134      0.000     777.316    1509.881\n",
       "mnth_MAY                    2127.0140    265.211      8.020      0.000    1606.006    2648.022\n",
       "mnth_NOV                     418.7691    192.969      2.170      0.030      39.681     797.857\n",
       "mnth_OKT                    1626.9952    190.780      8.528      0.000    1252.207    2001.783\n",
       "mnth_SEP                    2249.9567    194.271     11.582      0.000    1868.311    2631.603\n",
       "weekday_FRI                  296.0104    143.319      2.065      0.039      14.459     577.562\n",
       "weekday_SAT                  330.1010    138.105      2.390      0.017      58.793     601.409\n",
       "weekday_SUN                 -143.5833    136.287     -1.054      0.293    -411.319     124.152\n",
       "weekday_THU                  320.8964    144.275      2.224      0.027      37.468     604.325\n",
       "weekday_TUE                  193.7411    139.470      1.389      0.165     -80.248     467.730\n",
       "weekday_WED                  279.5822    141.534      1.975      0.049       1.538     557.626\n",
       "weathersit_MISTY            -636.8467     98.186     -6.486      0.000    -829.732    -443.961\n",
       "weathersit_RAIN/SNOW/STORM -2494.7931    255.733     -9.755      0.000   -2997.182   -1992.404\n",
       "==============================================================================\n",
       "Omnibus:                      103.552   Durbin-Watson:                   2.004\n",
       "Prob(Omnibus):                  0.000   Jarque-Bera (JB):              294.576\n",
       "Skew:                          -0.914   Prob(JB):                     1.08e-64\n",
       "Kurtosis:                       6.092   Cond. No.                     5.91e+03\n",
       "==============================================================================\n",
       "\n",
       "Notes:\n",
       "[1] Standard Errors assume that the covariance matrix of the errors is correctly specified.\n",
       "[2] The condition number is large, 5.91e+03. This might indicate that there are\n",
       "strong multicollinearity or other numerical problems.\n",
       "\"\"\""
      ]
     },
     "execution_count": 17,
     "metadata": {},
     "output_type": "execute_result"
    }
   ],
   "source": [
    "# fit a lineare regression model using statsmodel\n",
    "regressor_OLS = sm.OLS(endog=train_y, exog=sm.add_constant(train_x_VIF)).fit()\n",
    "regressor_OLS.summary()"
   ]
  },
  {
   "cell_type": "markdown",
   "metadata": {},
   "source": [
    "The R2 value of 0.811 is quite high, which means that 81.1% of the variance in the daily bike rental can be explained by the predictors used.\n",
    "\n",
    "The next step is interpreting this model. Regarding the humnidity, an increase of the humidity by 1% decreases the predicted bike rental count by 6.7672, when all other variables remain fixed. In terms of seasons, when it is fall, the predicted number of bike rental is 1120.6 higher compared to the spring season, when all other variables remain fixed. (So people like travelling by bicycle in fall more than in spring?)\n",
    "\n",
    "As a practice, can you interpret the other variables in this model?"
   ]
  },
  {
   "cell_type": "markdown",
   "metadata": {},
   "source": [
    "Now you can evaluate the model performance on the testing set."
   ]
  },
  {
   "cell_type": "code",
   "execution_count": 18,
   "metadata": {},
   "outputs": [
    {
     "data": {
      "text/plain": [
       "0.7473959395730105"
      ]
     },
     "execution_count": 18,
     "metadata": {},
     "output_type": "execute_result"
    }
   ],
   "source": [
    "# select the same columns from test_x as train_x_VIF\n",
    "test_x_VIF = test_x[train_x_VIF.columns]\n",
    "\n",
    "# using the model.score function to get the R2 on the testing data\n",
    "lr.score(X=test_x_VIF, y=test_y)"
   ]
  },
  {
   "cell_type": "markdown",
   "metadata": {},
   "source": [
    "## Linear regression with Lasso"
   ]
  },
  {
   "cell_type": "markdown",
   "metadata": {},
   "source": [
    "Lasso (which means **least absolute shrinkage and selection operator**) is a regression method that performs both variable selection and regularisation (or penalty) in order to increase the prediction accuracy and interpretability of the regression model.\n",
    "\n",
    "In Lasso, the lambda (or alpha) parameter controls the strength of regularisation. If alpha=0, it is equivalent to an ordinary least square. \n",
    "\n",
    "Note that in the Lasso function provided by `sklearn`, the alpha value defaults to 1.0. But this value can be optimised.\n",
    "\n",
    "Please note that Lasso requires predictors to be normalised. This can be done using this function by setting `normalize=True`. Here, normalisation means subtracting the mean and dividing by the standard deviation."
   ]
  },
  {
   "cell_type": "code",
   "execution_count": 19,
   "metadata": {},
   "outputs": [
    {
     "data": {
      "text/plain": [
       "Lasso(max_iter=100000000.0, normalize=True)"
      ]
     },
     "execution_count": 19,
     "metadata": {},
     "output_type": "execute_result"
    }
   ],
   "source": [
    "# increase the max_iter to guarantee convergence\n",
    "lasso_model = sklearn.linear_model.Lasso(max_iter=10e7, normalize=True)\n",
    "lasso_model.fit(X=train_x, y=train_y)"
   ]
  },
  {
   "cell_type": "code",
   "execution_count": 20,
   "metadata": {},
   "outputs": [
    {
     "data": {
      "text/plain": [
       "0.8479620073579042"
      ]
     },
     "execution_count": 20,
     "metadata": {},
     "output_type": "execute_result"
    }
   ],
   "source": [
    "lasso_model.score(X=train_x, y=train_y)"
   ]
  },
  {
   "cell_type": "markdown",
   "metadata": {},
   "source": [
    "It looks like the Lasso model has done a great job in fitting the data relationship in the training set.\n",
    "\n",
    "We can check out the coefficients using the following code."
   ]
  },
  {
   "cell_type": "code",
   "execution_count": 21,
   "metadata": {},
   "outputs": [
    {
     "name": "stdout",
     "output_type": "stream",
     "text": [
      "                           var                                     coef\n",
      "0                         temp                                 100.6733\n",
      "1                          hum                                 -14.0132\n",
      "2                    windspeed                                 -49.2467\n",
      "3              days_since_2011                                   5.2862\n",
      "4                  season_FALL                                   0.0000\n",
      "5                season_SUMMER                                 718.3919\n",
      "6                season_WINTER                                 621.7315\n",
      "7                     mnth_APR                                   5.4039\n",
      "8                     mnth_AUG                                   0.0000\n",
      "9                     mnth_DEZ                              -1,153.4459\n",
      "10                    mnth_FEB                                  -0.0000\n",
      "11                    mnth_JUL                                -218.1984\n",
      "12                    mnth_JUN                                   0.0000\n",
      "13                    mnth_MAR                                 160.3772\n",
      "14                    mnth_MAY                                  53.5846\n",
      "15                    mnth_NOV                                -629.8516\n",
      "16                    mnth_OKT                                  -0.0000\n",
      "17                    mnth_SEP                                 369.8500\n",
      "18             holiday_HOLIDAY                                -631.0465\n",
      "19                 weekday_FRI                                   9.4776\n",
      "20                 weekday_SAT                                  82.3226\n",
      "21                 weekday_SUN                                -253.1466\n",
      "22                 weekday_THU                                  25.7443\n",
      "23                 weekday_TUE                                  -0.0000\n",
      "24                 weekday_WED                                   0.0000\n",
      "25   workingday_NO WORKING DAY                                  -0.0000\n",
      "26            weathersit_MISTY                                -405.7740\n",
      "27  weathersit_RAIN/SNOW/STORM                              -2,070.4646\n"
     ]
    }
   ],
   "source": [
    "# print(lasso_model.coef_)\n",
    "df_coef_lasso = pd.DataFrame({\"var\": train_x.columns.values, \"coef\":lasso_model.coef_})\n",
    "print(df_coef_lasso)"
   ]
  },
  {
   "cell_type": "markdown",
   "metadata": {},
   "source": [
    "We can apply the Lasso regression with a range of lambda parameters, and see how the coefficients change with the lambda value. The plot is called `LASSO Path`."
   ]
  },
  {
   "cell_type": "code",
   "execution_count": 22,
   "metadata": {},
   "outputs": [
    {
     "data": {
      "text/plain": [
       "(-1.25, 4.25, -555.7763488553869, 1329.37971335965)"
      ]
     },
     "execution_count": 22,
     "metadata": {},
     "output_type": "execute_result"
    },
    {
     "data": {
      "image/png": "[encoded data removed]",
      "text/plain": [
       "<Figure size 432x288 with 1 Axes>"
      ]
     },
     "metadata": {
      "needs_background": "light"
     },
     "output_type": "display_data"
    }
   ],
   "source": [
    "from itertools import cycle\n",
    "from sklearn.linear_model import lasso_path\n",
    "\n",
    "train_x_standard = train_x/train_x.std(axis=0)\n",
    "list_alphas = [.1, .5, 1, 10, 100, 1000, 10000]\n",
    "\n",
    "# alphas_lasso, coefs_lasso, _ = lasso_path(predictors_bike_rental, response_bike_rental, alphas = [.1, .5, 1, 10, 100], fit_intercept=False)\n",
    "alphas_lasso, coefs_lasso, _ = lasso_path(train_x_standard, train_y.values.reshape(-1),alphas = list_alphas, fit_intercept=False)\n",
    "# print(alphas_lasso.shape)\n",
    "# print(coefs_lasso.shape)\n",
    "\n",
    "log_alphas_lasso = np.log10(alphas_lasso)\n",
    "for coef_l in coefs_lasso:\n",
    "    l1 = plt.plot(log_alphas_lasso, coef_l)\n",
    "\n",
    "plt.xlabel('Log(alpha)')\n",
    "plt.ylabel('coefficients')\n",
    "plt.title('Lasso Path')\n",
    "plt.axis('tight')"
   ]
  },
  {
   "cell_type": "markdown",
   "metadata": {},
   "source": [
    "We will use cross validation to search for the optimal alpha value. The code below is based on [this link](https://scikit-learn.org/stable/auto_examples/linear_model/plot_lasso_model_selection.html#sphx-glr-auto-examples-linear-model-plot-lasso-model-selection-py).\n",
    "\n",
    "What is the search range of alphas? \n",
    "\n",
    "The **lassoCV** function an argument called **alphas**, which is the list of alphas where to compute the models. Its default value is None. If None, alphas are set automatically.\n",
    "\n",
    "As the automatically selected alpha values don't work well here (reason unknown), we will manually set alphas to list_alphas."
   ]
  },
  {
   "cell_type": "code",
   "execution_count": 23,
   "metadata": {},
   "outputs": [],
   "source": [
    "from sklearn.linear_model import LassoCV\n",
    "import time\n",
    "\n",
    "start_time = time.time()\n",
    "lasso_cv = LassoCV(cv=20, alphas=list_alphas).fit(train_x, train_y)\n",
    "fit_time = time.time() - start_time"
   ]
  },
  {
   "cell_type": "code",
   "execution_count": 24,
   "metadata": {},
   "outputs": [
    {
     "data": {
      "image/png": "[encoded data removed]",
      "text/plain": [
       "<Figure size 432x288 with 1 Axes>"
      ]
     },
     "metadata": {
      "needs_background": "light"
     },
     "output_type": "display_data"
    }
   ],
   "source": [
    "import matplotlib.pyplot as plt\n",
    "\n",
    "ymin, ymax = np.min(lasso_cv.mse_path_), np.max(lasso_cv.mse_path_)\n",
    "# lasso = model[-1]\n",
    "plt.semilogx(lasso_cv.alphas_, lasso_cv.mse_path_, linestyle=\":\")\n",
    "plt.plot(\n",
    "    lasso_cv.alphas_,\n",
    "    lasso_cv.mse_path_.mean(axis=-1),\n",
    "    color=\"black\",\n",
    "    label=\"Average across the folds\",\n",
    "    linewidth=2,\n",
    ")\n",
    "plt.axvline(lasso_cv.alpha_, linestyle=\"--\", color=\"black\", label=\"alpha: CV estimate\")\n",
    "\n",
    "plt.ylim(ymin, ymax)\n",
    "plt.xlabel(r\"$\\alpha$\")\n",
    "plt.ylabel(\"Mean square error\")\n",
    "plt.legend()\n",
    "_ = plt.title(\n",
    "    f\"Mean square error on each fold: coordinate descent (train time: {fit_time:.2f}s)\"\n",
    ")"
   ]
  },
  {
   "cell_type": "markdown",
   "metadata": {},
   "source": [
    "Print the **alphas_** values that have been compared."
   ]
  },
  {
   "cell_type": "code",
   "execution_count": 25,
   "metadata": {},
   "outputs": [
    {
     "name": "stdout",
     "output_type": "stream",
     "text": [
      "[1.e+04 1.e+03 1.e+02 1.e+01 1.e+00 5.e-01 1.e-01]\n"
     ]
    }
   ],
   "source": [
    "print(lasso_cv.alphas_)"
   ]
  },
  {
   "cell_type": "markdown",
   "metadata": {},
   "source": [
    "The optimal alpha value is as follows.\n",
    "\n",
    "Note that this calculation contains some randomness and the mean square area of alpha=0.1 and alpha=1 is very close. Therefore, the optimal alpha might be 0.1 or 1 and might differ in different runs."
   ]
  },
  {
   "cell_type": "code",
   "execution_count": 26,
   "metadata": {},
   "outputs": [
    {
     "name": "stdout",
     "output_type": "stream",
     "text": [
      "1.0\n"
     ]
    }
   ],
   "source": [
    "print(lasso_cv.alpha_)"
   ]
  },
  {
   "cell_type": "markdown",
   "metadata": {},
   "source": [
    "Rerun the lasso model using the optimal alpha value:"
   ]
  },
  {
   "cell_type": "code",
   "execution_count": 27,
   "metadata": {},
   "outputs": [
    {
     "name": "stdout",
     "output_type": "stream",
     "text": [
      "0.8479620073579042\n"
     ]
    }
   ],
   "source": [
    "# increase the max_iter to guarantee convergence\n",
    "lasso_model = sklearn.linear_model.Lasso(max_iter=10e7, normalize=True, alpha = lasso_cv.alpha_)\n",
    "lasso_model.fit(X=train_x, y=train_y)\n",
    "print(lasso_model.score(train_x, train_y))"
   ]
  },
  {
   "cell_type": "markdown",
   "metadata": {},
   "source": [
    "How does this model perform on the testing data?"
   ]
  },
  {
   "cell_type": "code",
   "execution_count": 30,
   "metadata": {},
   "outputs": [
    {
     "name": "stdout",
     "output_type": "stream",
     "text": [
      "0.7924788834408469\n"
     ]
    }
   ],
   "source": [
    "print(lasso_model.score(test_x, test_y))"
   ]
  },
  {
   "cell_type": "markdown",
   "metadata": {},
   "source": [
    "## Regression Tree"
   ]
  },
  {
   "cell_type": "markdown",
   "metadata": {},
   "source": [
    "In this section, we will use a regression tree for this dataset. Although there are several parameters in this model such as **max_depth** (corresponding to the height of a tree), but in a first attempt we just use the default values."
   ]
  },
  {
   "cell_type": "code",
   "execution_count": 31,
   "metadata": {},
   "outputs": [
    {
     "data": {
      "text/plain": [
       "DecisionTreeRegressor(random_state=0)"
      ]
     },
     "execution_count": 31,
     "metadata": {},
     "output_type": "execute_result"
    }
   ],
   "source": [
    "from sklearn.tree import DecisionTreeRegressor\n",
    "reg_tree = DecisionTreeRegressor(random_state=0)\n",
    "# if you don't remember the meaning of random_state, check out the lastest clustering workshop on Moodle\n",
    "reg_tree.fit(train_x, train_y)"
   ]
  },
  {
   "cell_type": "markdown",
   "metadata": {},
   "source": [
    "Just like the previous regressors, you can check the R2 score using the `score()` function."
   ]
  },
  {
   "cell_type": "code",
   "execution_count": 32,
   "metadata": {},
   "outputs": [
    {
     "name": "stdout",
     "output_type": "stream",
     "text": [
      "R2 on the training data:\n",
      "1.0\n",
      "R2 on the testing data:\n",
      "0.7229453566227575\n"
     ]
    }
   ],
   "source": [
    "print(\"R2 on the training data:\")\n",
    "print(reg_tree.score(X=train_x, y=train_y))\n",
    "print(\"R2 on the testing data:\")\n",
    "print(reg_tree.score(X=test_x, y=test_y))"
   ]
  },
  {
   "cell_type": "markdown",
   "metadata": {},
   "source": [
    "It looks like the R2 on the testing data is much lower than that on the training data. This indicates the overfitting problem, meaning that it fits very well to the training data but fails to generalise to unseen data.\n",
    "\n",
    "CART tends to overfit, and this issue can be reduced by **ensemble** methods which combine many many trees."
   ]
  },
  {
   "cell_type": "markdown",
   "metadata": {},
   "source": [
    "If you prefer RMSE as the performance metric, you can calculate it as follows (see the [documentation](https://scikit-learn.org/stable/modules/generated/sklearn.metrics.mean_squared_error.html#sklearn.metrics.mean_squared_error)):"
   ]
  },
  {
   "cell_type": "code",
   "execution_count": 33,
   "metadata": {},
   "outputs": [
    {
     "name": "stdout",
     "output_type": "stream",
     "text": [
      "RMSE on the training data:\n",
      "0.0\n",
      "RMSE on the testing data:\n",
      "986.8989988239838\n"
     ]
    }
   ],
   "source": [
    "from sklearn.metrics import mean_squared_error\n",
    "print(\"RMSE on the training data:\")\n",
    "print(mean_squared_error(train_y, reg_tree.predict(train_x), squared=False))\n",
    "print(\"RMSE on the testing data:\")\n",
    "print(mean_squared_error(test_y, reg_tree.predict(test_x), squared=False))"
   ]
  },
  {
   "cell_type": "markdown",
   "metadata": {},
   "source": [
    "### Interpretation of the regression tree"
   ]
  },
  {
   "cell_type": "markdown",
   "metadata": {},
   "source": [
    "How many layers and leaf nodes are in this tree?"
   ]
  },
  {
   "cell_type": "code",
   "execution_count": 34,
   "metadata": {},
   "outputs": [
    {
     "name": "stdout",
     "output_type": "stream",
     "text": [
      "Depth of the regression tree: 25\n",
      "Number of nodes of this tree: 548\n"
     ]
    }
   ],
   "source": [
    "print(\"Depth of the regression tree: {}\".format(reg_tree.get_depth()))\n",
    "print(\"Number of nodes of this tree: {}\".format(reg_tree.get_n_leaves()))"
   ]
  },
  {
   "cell_type": "markdown",
   "metadata": {},
   "source": [
    "As this tree has over 20 layers and hundreds of leaves, it is not useful to visualise this tree. \n",
    "\n",
    "Alternatively, we will use the Permutation Feature Importance (PFI) to evaluate the relative importance of each variable.\n",
    "\n",
    "We will use the package of **rfpimp** to compute the variable importance. If this package is not installed, install it using ```pip install rfpimp```.\n",
    "\n",
    "An introduction of this package is [here](https://github.com/parrt/random-forest-importances).\n",
    "\n",
    "A good introduction to the permutation feature importance is [here](https://christophm.github.io/interpretable-ml-book/feature-importance.html)."
   ]
  },
  {
   "cell_type": "code",
   "execution_count": 35,
   "metadata": {},
   "outputs": [
    {
     "name": "stdout",
     "output_type": "stream",
     "text": [
      "Collecting rfpimp\n",
      "  Downloading rfpimp-1.3.7.tar.gz (10 kB)\n",
      "Requirement already satisfied: numpy in /opt/conda/envs/sds2021/lib/python3.9/site-packages (from rfpimp) (1.21.1)\n",
      "Requirement already satisfied: pandas in /opt/conda/envs/sds2021/lib/python3.9/site-packages (from rfpimp) (1.3.0)\n",
      "Requirement already satisfied: scikit-learn in /opt/conda/envs/sds2021/lib/python3.9/site-packages (from rfpimp) (0.24.2)\n",
      "Requirement already satisfied: matplotlib in /opt/conda/envs/sds2021/lib/python3.9/site-packages (from rfpimp) (3.4.2)\n",
      "Requirement already satisfied: cycler>=0.10 in /opt/conda/envs/sds2021/lib/python3.9/site-packages (from matplotlib->rfpimp) (0.10.0)\n",
      "Requirement already satisfied: pyparsing>=2.2.1 in /opt/conda/envs/sds2021/lib/python3.9/site-packages (from matplotlib->rfpimp) (2.4.7)\n",
      "Requirement already satisfied: kiwisolver>=1.0.1 in /opt/conda/envs/sds2021/lib/python3.9/site-packages (from matplotlib->rfpimp) (1.3.1)\n",
      "Requirement already satisfied: pillow>=6.2.0 in /opt/conda/envs/sds2021/lib/python3.9/site-packages (from matplotlib->rfpimp) (8.2.0)\n",
      "Requirement already satisfied: python-dateutil>=2.7 in /opt/conda/envs/sds2021/lib/python3.9/site-packages (from matplotlib->rfpimp) (2.8.0)\n",
      "Requirement already satisfied: six in /opt/conda/envs/sds2021/lib/python3.9/site-packages (from cycler>=0.10->matplotlib->rfpimp) (1.16.0)\n",
      "Requirement already satisfied: pytz>=2017.3 in /opt/conda/envs/sds2021/lib/python3.9/site-packages (from pandas->rfpimp) (2021.1)\n",
      "Requirement already satisfied: threadpoolctl>=2.0.0 in /opt/conda/envs/sds2021/lib/python3.9/site-packages (from scikit-learn->rfpimp) (2.2.0)\n",
      "Requirement already satisfied: scipy>=0.19.1 in /opt/conda/envs/sds2021/lib/python3.9/site-packages (from scikit-learn->rfpimp) (1.7.0)\n",
      "Requirement already satisfied: joblib>=0.11 in /opt/conda/envs/sds2021/lib/python3.9/site-packages (from scikit-learn->rfpimp) (1.0.1)\n",
      "Building wheels for collected packages: rfpimp\n",
      "  Building wheel for rfpimp (setup.py) ... \u001b[?25ldone\n",
      "\u001b[?25h  Created wheel for rfpimp: filename=rfpimp-1.3.7-py3-none-any.whl size=10668 sha256=4a7b04256b055c5d8eb6316dc205a44eefb69a926200533d6c31e2f7449ec167\n",
      "  Stored in directory: /home/jovyan/.cache/pip/wheels/d9/f2/53/6d8c73011f73fc347598d683ff8b2343605ad43474ae083816\n",
      "Successfully built rfpimp\n",
      "Installing collected packages: rfpimp\n",
      "Successfully installed rfpimp-1.3.7\n"
     ]
    }
   ],
   "source": [
    "! pip install rfpimp"
   ]
  },
  {
   "cell_type": "markdown",
   "metadata": {},
   "source": [
    "Note that the feature importance should be evaluated using the testing set, as it is unused in the model training.\n",
    "\n",
    "We are interested in the top variables with a positive feature importance. These are days_since_2011, temp, hum, windspeed."
   ]
  },
  {
   "cell_type": "code",
   "execution_count": 36,
   "metadata": {},
   "outputs": [
    {
     "name": "stdout",
     "output_type": "stream",
     "text": [
      "                                                         Importance\n",
      "Feature                                                            \n",
      "days_since_2011                                              0.7658\n",
      "temp                                                         0.3784\n",
      "hum                                                          0.0872\n",
      "weathersit_MISTY                                             0.0381\n",
      "weathersit_RAIN/SNOW/STORM                                   0.0270\n",
      "weekday_SAT                                                  0.0083\n",
      "mnth_APR                                                     0.0066\n",
      "weekday_FRI                                                  0.0047\n",
      "windspeed                                                    0.0024\n",
      "mnth_SEP                                                     0.0015\n",
      "mnth_JUL                                                     0.0007\n",
      "weekday_SUN                                                  0.0004\n",
      "weekday_WED                                                  0.0002\n",
      "holiday_HOLIDAY                                              0.0001\n",
      "mnth_DEZ                                                     0.0001\n",
      "mnth_MAR                                                     0.0000\n",
      "weekday_TUE                                                  0.0000\n",
      "mnth_AUG                                                     0.0000\n",
      "mnth_FEB                                                     0.0000\n",
      "mnth_NOV                                                     0.0000\n",
      "mnth_MAY                                                    -0.0000\n",
      "season_FALL                                                 -0.0000\n",
      "season_WINTER                                               -0.0000\n",
      "mnth_JUN                                                    -0.0014\n",
      "season_SUMMER                                               -0.0032\n",
      "weekday_THU                                                 -0.0032\n",
      "workingday_NO WORKING DAY                                   -0.0051\n",
      "mnth_OKT                                                    -0.0080\n"
     ]
    },
    {
     "data": {
      "image/png": "[encoded data removed]",
      "text/plain": [
       "<Figure size 288x444.96 with 1 Axes>"
      ]
     },
     "metadata": {
      "needs_background": "light"
     },
     "output_type": "display_data"
    }
   ],
   "source": [
    "import rfpimp\n",
    "imp = rfpimp.importances(reg_tree, test_x, test_y) # permutation\n",
    "print(imp)\n",
    "viz = rfpimp.plot_importances(imp)\n",
    "viz.view()"
   ]
  },
  {
   "cell_type": "markdown",
   "metadata": {},
   "source": [
    "## Random Forest"
   ]
  },
  {
   "cell_type": "markdown",
   "metadata": {},
   "source": [
    "In this section, we will use the random forest method for this dataset."
   ]
  },
  {
   "cell_type": "code",
   "execution_count": 37,
   "metadata": {},
   "outputs": [
    {
     "data": {
      "text/plain": [
       "RandomForestRegressor(random_state=0)"
      ]
     },
     "execution_count": 37,
     "metadata": {},
     "output_type": "execute_result"
    }
   ],
   "source": [
    "from sklearn.ensemble import RandomForestRegressor\n",
    "reg_random_forest = RandomForestRegressor(random_state=0)\n",
    "reg_random_forest.fit(train_x, train_y)"
   ]
  },
  {
   "cell_type": "markdown",
   "metadata": {},
   "source": [
    "We can check the R2 score of this model."
   ]
  },
  {
   "cell_type": "code",
   "execution_count": 38,
   "metadata": {},
   "outputs": [
    {
     "name": "stdout",
     "output_type": "stream",
     "text": [
      "R2 on the training data:\n",
      "0.9837757933204775\n",
      "R2 on the testing data:\n",
      "0.8850852018900764\n"
     ]
    }
   ],
   "source": [
    "print(\"R2 on the training data:\")\n",
    "print(reg_random_forest.score(X=train_x, y=train_y))\n",
    "print(\"R2 on the testing data:\")\n",
    "print(reg_random_forest.score(X=test_x, y=test_y))"
   ]
  },
  {
   "cell_type": "markdown",
   "metadata": {},
   "source": [
    "So - what do you think about the comparison of R2 on the training and testing data?"
   ]
  },
  {
   "cell_type": "markdown",
   "metadata": {},
   "source": [
    "As with CART, it is not useful to visualise the trees in a random forest.\n",
    "\n",
    "Calculate and plot the feature importance of the RF model.\n",
    "\n",
    "Although the feature importance value differs from the CART, the order of the top-ranking variables is the same.\n",
    "\n",
    "This indicates that these variables are indeed very important for the prediction of bike rental."
   ]
  },
  {
   "cell_type": "code",
   "execution_count": 39,
   "metadata": {},
   "outputs": [
    {
     "name": "stdout",
     "output_type": "stream",
     "text": [
      "                                                         Importance\n",
      "Feature                                                            \n",
      "days_since_2011                                              0.7705\n",
      "temp                                                         0.4001\n",
      "hum                                                          0.1208\n",
      "windspeed                                                    0.0200\n",
      "weathersit_RAIN/SNOW/STORM                                   0.0072\n",
      "workingday_NO WORKING DAY                                    0.0034\n",
      "season_WINTER                                                0.0031\n",
      "weekday_SUN                                                  0.0030\n",
      "holiday_HOLIDAY                                              0.0028\n",
      "weathersit_MISTY                                             0.0014\n",
      "mnth_DEZ                                                     0.0011\n",
      "mnth_NOV                                                     0.0010\n",
      "weekday_FRI                                                  0.0009\n",
      "mnth_SEP                                                     0.0007\n",
      "weekday_TUE                                                  0.0005\n",
      "mnth_JUL                                                     0.0004\n",
      "weekday_SAT                                                  0.0003\n",
      "mnth_AUG                                                     0.0002\n",
      "mnth_FEB                                                     0.0001\n",
      "mnth_MAR                                                     0.0001\n",
      "season_SUMMER                                                0.0000\n",
      "mnth_MAY                                                    -0.0001\n",
      "mnth_OKT                                                    -0.0002\n",
      "season_FALL                                                 -0.0003\n",
      "weekday_WED                                                 -0.0007\n",
      "weekday_THU                                                 -0.0011\n",
      "mnth_APR                                                    -0.0011\n",
      "mnth_JUN                                                    -0.0012\n"
     ]
    },
    {
     "data": {
      "image/png": "[encoded data removed]",
      "text/plain": [
       "<Figure size 288x444.96 with 1 Axes>"
      ]
     },
     "metadata": {
      "needs_background": "light"
     },
     "output_type": "display_data"
    }
   ],
   "source": [
    "imp = rfpimp.importances(reg_random_forest, test_x, test_y) # permutation\n",
    "print(imp)\n",
    "viz = rfpimp.plot_importances(imp)\n",
    "viz.view()"
   ]
  },
  {
   "cell_type": "markdown",
   "metadata": {},
   "source": [
    "### Interpretation: permutation feature importance"
   ]
  },
  {
   "cell_type": "markdown",
   "metadata": {},
   "source": [
    "## GBDT and XGBoost"
   ]
  },
  {
   "cell_type": "markdown",
   "metadata": {},
   "source": [
    "Last but not least, we will use GBDT to model and predict the bike rental.\n",
    "\n",
    "We will use the **XGBoost** package. Although it is not part of sklearn, it has a sklearn-style interface, which is very convenient for users.\n",
    "\n",
    "If the **XGBoost** package is not installed, install it using the following command:"
   ]
  },
  {
   "cell_type": "code",
   "execution_count": 40,
   "metadata": {},
   "outputs": [
    {
     "name": "stdout",
     "output_type": "stream",
     "text": [
      "Requirement already satisfied: XGBoost in /opt/conda/envs/sds2021/lib/python3.9/site-packages (1.4.2)\n",
      "Requirement already satisfied: numpy in /opt/conda/envs/sds2021/lib/python3.9/site-packages (from XGBoost) (1.21.1)\n",
      "Requirement already satisfied: scipy in /opt/conda/envs/sds2021/lib/python3.9/site-packages (from XGBoost) (1.7.0)\n"
     ]
    }
   ],
   "source": [
    "! pip install XGBoost"
   ]
  },
  {
   "cell_type": "code",
   "execution_count": 41,
   "metadata": {},
   "outputs": [],
   "source": [
    "import xgboost as xgb\n",
    "\n",
    "random_state_xgb = 200"
   ]
  },
  {
   "cell_type": "code",
   "execution_count": 42,
   "metadata": {},
   "outputs": [
    {
     "data": {
      "text/plain": [
       "XGBRegressor(base_score=0.5, booster='gbtree', colsample_bylevel=1,\n",
       "             colsample_bynode=1, colsample_bytree=1, gamma=0, gpu_id=-1,\n",
       "             importance_type='gain', interaction_constraints='',\n",
       "             learning_rate=0.300000012, max_delta_step=0, max_depth=6,\n",
       "             min_child_weight=1, missing=nan, monotone_constraints='()',\n",
       "             n_estimators=100, n_jobs=6, num_parallel_tree=1, random_state=200,\n",
       "             reg_alpha=0, reg_lambda=1, scale_pos_weight=1, subsample=1,\n",
       "             tree_method='exact', validate_parameters=1, verbosity=None)"
      ]
     },
     "execution_count": 42,
     "metadata": {},
     "output_type": "execute_result"
    }
   ],
   "source": [
    "xgb_model = xgb.XGBRegressor(random_state = random_state_xgb)\n",
    "\n",
    "xgb_model.fit(train_x,train_y )"
   ]
  },
  {
   "cell_type": "markdown",
   "metadata": {},
   "source": [
    "What is the performance of XGB regressor on the training and testing set?"
   ]
  },
  {
   "cell_type": "code",
   "execution_count": 43,
   "metadata": {},
   "outputs": [
    {
     "name": "stdout",
     "output_type": "stream",
     "text": [
      "R2 on the training data:\n",
      "0.9999505903854246\n",
      "R2 on the testing data:\n",
      "0.8795131843920542\n"
     ]
    }
   ],
   "source": [
    "print(\"R2 on the training data:\")\n",
    "print(xgb_model.score(X=train_x, y=train_y))\n",
    "print(\"R2 on the testing data:\")\n",
    "print(xgb_model.score(X=test_x, y=test_y))"
   ]
  },
  {
   "cell_type": "markdown",
   "metadata": {},
   "source": [
    "What is the relative feature importance in this model?\n",
    "\n",
    "Can you compare the variable importance with the CART and RF?"
   ]
  },
  {
   "cell_type": "code",
   "execution_count": 44,
   "metadata": {},
   "outputs": [
    {
     "name": "stdout",
     "output_type": "stream",
     "text": [
      "                                                         Importance\n",
      "Feature                                                            \n",
      "days_since_2011                                              0.6924\n",
      "temp                                                         0.4815\n",
      "hum                                                          0.1559\n",
      "windspeed                                                    0.0264\n",
      "weekday_SAT                                                  0.0116\n",
      "weathersit_RAIN/SNOW/STORM                                   0.0083\n",
      "weekday_SUN                                                  0.0051\n",
      "weekday_FRI                                                  0.0046\n",
      "weekday_THU                                                  0.0027\n",
      "mnth_DEZ                                                     0.0023\n",
      "workingday_NO WORKING DAY                                    0.0018\n",
      "weekday_TUE                                                  0.0018\n",
      "holiday_HOLIDAY                                              0.0010\n",
      "mnth_AUG                                                     0.0006\n",
      "weekday_WED                                                  0.0006\n",
      "season_FALL                                                  0.0002\n",
      "mnth_JUN                                                     0.0002\n",
      "weathersit_MISTY                                             0.0001\n",
      "mnth_FEB                                                     0.0001\n",
      "mnth_MAR                                                     0.0000\n",
      "mnth_OKT                                                    -0.0001\n",
      "mnth_APR                                                    -0.0002\n",
      "mnth_NOV                                                    -0.0002\n",
      "mnth_SEP                                                    -0.0004\n",
      "season_SUMMER                                               -0.0005\n",
      "mnth_JUL                                                    -0.0009\n",
      "season_WINTER                                               -0.0012\n",
      "mnth_MAY                                                    -0.0039\n"
     ]
    },
    {
     "data": {
      "image/png": "[encoded data removed]",
      "text/plain": [
       "<Figure size 288x444.96 with 1 Axes>"
      ]
     },
     "metadata": {
      "needs_background": "light"
     },
     "output_type": "display_data"
    }
   ],
   "source": [
    "imp = rfpimp.importances(xgb_model, test_x, test_y) # permutation\n",
    "print(imp)\n",
    "viz = rfpimp.plot_importances(imp)\n",
    "viz.view()"
   ]
  },
  {
   "cell_type": "markdown",
   "metadata": {},
   "source": [
    "## Model comparison"
   ]
  },
  {
   "cell_type": "markdown",
   "metadata": {},
   "source": [
    "We have built a range of regression models. Now we can collate these models and compare their performance."
   ]
  },
  {
   "cell_type": "code",
   "execution_count": 47,
   "metadata": {},
   "outputs": [
    {
     "name": "stdout",
     "output_type": "stream",
     "text": [
      "                                    R2_train_data  \\\n",
      "LR_VIF                                     0.8093   \n",
      "LR_LASSO                                   0.8480   \n",
      "CART                                       1.0000   \n",
      "RF                                         0.9838   \n",
      "GBDT                                       1.0000   \n",
      "\n",
      "                                     R2_test_data  \n",
      "LR_VIF                                     0.7474  \n",
      "LR_LASSO                                   0.7925  \n",
      "CART                                       0.7229  \n",
      "RF                                         0.8851  \n",
      "GBDT                                       0.8795  \n"
     ]
    }
   ],
   "source": [
    "# create a list of models\n",
    "list_name_models = ['LR_VIF', 'LR_LASSO', 'CART', 'RF', 'GBDT']\n",
    "# use the models from above\n",
    "list_reg_models = [lr, lasso_model, reg_tree, reg_random_forest, xgb_model]\n",
    "\n",
    "dict_models = dict()\n",
    "\n",
    "# Element of dict_models: {'LR_VIF': [train_R2, test_R2]}\n",
    "\n",
    "# Example\n",
    "# data = {'row_1': [3, 2, 1, 0], 'row_2': ['a', 'b', 'c', 'd']}\n",
    "# pd.DataFrame.from_dict(data, orient='index')\n",
    "#        0  1  2  3\n",
    "# row_1  3  2  1  0\n",
    "# row_2  a  b  c  d\n",
    "\n",
    "for name, model in zip(list_name_models, list_reg_models):\n",
    "    if name == 'LR_VIF':\n",
    "        dict_models[name] = [model.score(train_x_VIF, train_y), model.score(test_x_VIF, test_y)]\n",
    "    else:\n",
    "        dict_models[name] = [model.score(train_x, train_y), model.score(test_x, test_y)]\n",
    "\n",
    "# transform dict_models to dataframe\n",
    "df_models = pd.DataFrame.from_dict(dict_models, orient='index', columns=['R2_train_data', 'R2_test_data'])\n",
    "print(df_models)\n",
    "# you can then export df_models as a csv file and use it in MS Excel or Word"
   ]
  },
  {
   "cell_type": "markdown",
   "metadata": {},
   "source": [
    "## Summary"
   ]
  },
  {
   "cell_type": "markdown",
   "metadata": {},
   "source": [
    "Well done for completing this workshop on regression. You will now have a stronger understanding of how to use a range of regression methods to gain insights into your datasets.\n",
    "\n",
    "If you have time and/or interest in exploring these methods further, why not try these methods on a new dataset?\n",
    "\n",
    "There are lots of nice datasets for analysis on [UCI Machine Learning Repository](https://archive.ics.uci.edu/ml/datasets.html) and [Kaggle](https://www.kaggle.com/datasets). Take a look, and if any of them take your fancy try create a regression model. Which data features are important? Which are not? \n",
    "\n",
    "We haven't talked about hyperparameter tuning of RF/XGBoost models. This topic will be discussed in the next weeks."
   ]
  },
  {
   "cell_type": "markdown",
   "metadata": {},
   "source": [
    "## Credits!\n",
    "\n",
    "### Acknowledgements\n",
    "\n",
    "This workshop is partially based on a [chapter](https://christophm.github.io/interpretable-ml-book/limo.html) of the [book](https://christophm.github.io/interpretable-ml-book/) by Christoph Molnar. "
   ]
  }
 ],
 "metadata": {
  "kernelspec": {
   "display_name": "Python 3 (ipykernel)",
   "language": "python",
   "name": "python3"
  },
  "language_info": {
   "codemirror_mode": {
    "name": "ipython",
    "version": 3
   },
   "file_extension": ".py",
   "mimetype": "text/x-python",
   "name": "python",
   "nbconvert_exporter": "python",
   "pygments_lexer": "ipython3",
   "version": "3.9.6"
  },
  "toc": {
   "base_numbering": 1,
   "nav_menu": {},
   "number_sections": true,
   "sideBar": true,
   "skip_h1_title": false,
   "title_cell": "Table of Contents",
   "title_sidebar": "Contents",
   "toc_cell": false,
   "toc_position": {},
   "toc_section_display": true,
   "toc_window_display": true
  },
  "toc-autonumbering": true
 },
 "nbformat": 4,
 "nbformat_minor": 4
}
